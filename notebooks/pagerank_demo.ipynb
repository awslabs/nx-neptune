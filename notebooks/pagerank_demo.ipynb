{
 "cells": [
  {
   "cell_type": "markdown",
   "metadata": {},
   "source": [
    "# PageRank Algorithm with Neptune Analytics\n",
    "\n",
    "This notebook demonstrates how the PageRank algorithm computation can be offloaded to a remote AWS Neptune Analytics instance. We'll compare the results between local NetworkX execution and Neptune Analytics execution."
   ]
  },
  {
   "cell_type": "markdown",
   "metadata": {},
   "source": [
    "## Setup and Imports\n",
    "\n",
    "First, let's import the necessary libraries and set up logging."
   ]
  },
  {
   "cell_type": "code",
   "execution_count": null,
   "metadata": {},
   "outputs": [],
   "source": [
    "import networkx as nx\n",
    "from nx_neptune import NeptuneGraph\n",
    "from nx_neptune.clients import Node, Edge\n",
    "import logging\n",
    "import os\n",
    "import sys\n",
    "import matplotlib.pyplot as plt"
   ]
  },
  {
   "cell_type": "code",
   "execution_count": null,
   "metadata": {},
   "outputs": [],
   "source": [
    "# Configure logging\n",
    "logging.basicConfig(\n",
    "    level=logging.DEBUG,\n",
    "    format='%(levelname)s - %(message)s',\n",
    "    datefmt='%Y-%m-%d %H:%M:%S'\n",
    ")\n",
    "\n",
    "# Reduce verbosity for some loggers\n",
    "for logger_name in ['boto3', 'botocore', 'urllib3', 'matplotlib', 'networkx', 'nx_neptune.interface',\n",
    "                    'nx_neptune.clients.na_client',\n",
    "                    'nx_neptune.algorithms.link_analysis.pagerank']:\n",
    "    logging.getLogger(logger_name).setLevel(logging.WARNING)\n",
    "    \n",
    "logger = logging.getLogger(__name__)\n",
    "\n",
    "# Ignore cache warnings\n",
    "nx.config.warnings_to_ignore.add(\"cache\")"
   ]
  },
  {
   "cell_type": "markdown",
   "metadata": {},
   "source": [
    "## Check for Neptune Analytics Graph ID\n",
    "\n",
    "We need to ensure that the GRAPH_ID environment variable is set. You can also set it directly in this notebook."
   ]
  },
  {
   "cell_type": "code",
   "execution_count": null,
   "metadata": {},
   "outputs": [],
   "source": [
    "# Read and load graphId from environment variable\n",
    "graph_id = os.getenv('GRAPH_ID')\n",
    "\n",
    "# If not set, you can set it here\n",
    "if not graph_id:\n",
    "    # Uncomment and set your Graph ID\n",
    "    # %env GRAPH_ID=your-neptune-analytics-graph-id\n",
    "    # graph_id = os.getenv('GRAPH_ID')\n",
    "    print(\"Warning: Environment Variable GRAPH_ID is not defined\")\n",
    "    print(\"You can set it using: %env GRAPH_ID=your-neptune-analytics-graph-id\")\n",
    "else:\n",
    "    print(f\"Using Neptune Analytics Graph ID: {graph_id}\")"
   ]
  },
  {
   "cell_type": "markdown",
   "metadata": {},
   "source": [
    "## Clear the Neptune Analytics Graph\n",
    "\n",
    "Let's start with a clean slate by clearing any existing data in the Neptune Analytics graph."
   ]
  },
  {
   "cell_type": "code",
   "execution_count": null,
   "metadata": {},
   "outputs": [],
   "source": [
    "# Clear the Neptune Analytics graph\n",
    "g = nx.Graph()\n",
    "na_graph = NeptuneGraph(graph=g)\n",
    "na_graph.clear_graph()\n",
    "print(\"Neptune Analytics graph cleared successfully\")"
   ]
  },
  {
   "cell_type": "markdown",
   "metadata": {},
   "source": [
    "## Create and Visualize the Graph\n",
    "\n",
    "Let's create a directed graph with a specific structure for our PageRank demonstration."
   ]
  },
  {
   "cell_type": "code",
   "execution_count": null,
   "metadata": {},
   "outputs": [],
   "source": [
    "# Create a directed graph\n",
    "g = nx.DiGraph()\n",
    "\n",
    "# Clean up remote graph and populate test data\n",
    "na_graph = NeptuneGraph(graph=g)\n",
    "na_graph.clear_graph()\n",
    "\n",
    "# Test data - explicitly defining the graph with alphabetical nodes and directed edges\n",
    "# Add nodes\n",
    "nodes = ['A', 'B', 'C', 'D', 'E']\n",
    "g.add_nodes_from(nodes)\n",
    "\n",
    "# Add directed edges to create a directed path graph (A→B→C→D→E)\n",
    "g.add_edge('A', 'B')\n",
    "g.add_edge('B', 'C')\n",
    "g.add_edge('C', 'D')\n",
    "g.add_edge('D', 'E')\n",
    "\n",
    "# Add a cycle by connecting E back to C\n",
    "g.add_edge('E', 'C')\n",
    "\n",
    "# Add an isolated node\n",
    "g.add_node(\"X(DCd)\")\n",
    "\n",
    "# Visualize the graph\n",
    "plt.figure(figsize=(10, 6))\n",
    "pos = nx.spring_layout(g, seed=42)\n",
    "nx.draw(g, pos, with_labels=True, node_color='lightblue', \n",
    "        node_size=1500, font_size=12, arrows=True, arrowsize=20)\n",
    "plt.title(\"Directed Graph for PageRank Demonstration\")\n",
    "plt.show()\n",
    "\n",
    "print(\"Graph structure:\")\n",
    "print(\"\"\"\n",
    "   A→B→C→D→E\n",
    "       ↑   |\n",
    "       └───┘\n",
    "\n",
    "   X(DCd)\n",
    "\"\"\")"
   ]
  },
  {
   "cell_type": "markdown",
   "metadata": {},
   "source": [
    "## Run PageRank with Standard NetworkX\n",
    "\n",
    "First, let's run the PageRank algorithm using the standard NetworkX implementation."
   ]
  },
  {
   "cell_type": "code",
   "execution_count": null,
   "metadata": {},
   "outputs": [],
   "source": [
    "# Scenario: Local execution\n",
    "r_local = nx.pagerank(g)\n",
    "print(\"PageRank results using standard NetworkX:\")\n",
    "for key, value in sorted(r_local.items(), key=lambda x: (x[1], x[0]), reverse=True):\n",
    "    print(f\"{key}: {value:.6f}\")"
   ]
  },
  {
   "cell_type": "markdown",
   "metadata": {},
   "source": [
    "## Run PageRank with Neptune Analytics\n",
    "\n",
    "Now, let's run the same algorithm using Neptune Analytics as the backend."
   ]
  },
  {
   "cell_type": "code",
   "execution_count": null,
   "metadata": {},
   "outputs": [],
   "source": [
    "# Scenario: AWS Neptune Analytics\n",
    "try:\n",
    "    r_neptune = nx.pagerank(g, backend=\"neptune\")\n",
    "    print(\"PageRank results using Neptune Analytics:\")\n",
    "    for key, value in sorted(r_neptune.items(), key=lambda x: (x[1], x[0]), reverse=True):\n",
    "        print(f\"{key}: {value:.6f}\")\n",
    "except Exception as e:\n",
    "    print(f\"Error: {e}\")\n",
    "    print(\"Make sure GRAPH_ID is set and your AWS credentials are configured correctly.\")"
   ]
  },
  {
   "cell_type": "markdown",
   "metadata": {},
   "source": [
    "## Visualize PageRank Results\n",
    "\n",
    "Let's visualize the PageRank results by adjusting the node sizes according to their PageRank values."
   ]
  },
  {
   "cell_type": "code",
   "execution_count": null,
   "metadata": {},
   "outputs": [],
   "source": [
    "def visualize_pagerank(graph, pagerank_values, title):\n",
    "    plt.figure(figsize=(10, 6))\n",
    "    pos = nx.spring_layout(graph, seed=42)\n",
    "    \n",
    "    # Scale node sizes based on PageRank values\n",
    "    node_sizes = [pagerank_values[node] * 10000 for node in graph.nodes()]\n",
    "    \n",
    "    # Draw the graph\n",
    "    nx.draw(graph, pos, with_labels=True, \n",
    "            node_color='lightblue', \n",
    "            node_size=node_sizes, \n",
    "            font_size=12, \n",
    "            arrows=True, \n",
    "            arrowsize=20)\n",
    "    \n",
    "    plt.title(title)\n",
    "    plt.show()\n",
    "\n",
    "# Visualize NetworkX PageRank results\n",
    "visualize_pagerank(g, r_local, \"PageRank Results with NetworkX (Node Size = PageRank Value)\")\n",
    "\n",
    "# Visualize Neptune Analytics PageRank results if available\n",
    "try:\n",
    "    visualize_pagerank(g, r_neptune, \"PageRank Results with Neptune Analytics (Node Size = PageRank Value)\")\n",
    "except NameError:\n",
    "    print(\"Cannot visualize Neptune Analytics results because execution failed.\")"
   ]
  },
  {
   "cell_type": "markdown",
   "metadata": {},
   "source": [
    "## Conclusion\n",
    "\n",
    "This notebook demonstrated how to use the PageRank algorithm with both standard NetworkX and Neptune Analytics as a backend. The results show that:\n",
    "\n",
    "1. Node C has the highest PageRank value, which makes sense as it receives links from both B and E\n",
    "2. Nodes D and E also have high PageRank values due to being part of the cycle\n",
    "3. The isolated node X(DCd) has a low PageRank value\n",
    "4. There may be slight differences between the NetworkX and Neptune Analytics implementations\n",
    "\n",
    "Using Neptune Analytics as a backend allows you to offload the computation to AWS, which can be beneficial for larger graphs where local computation would be resource-intensive."
   ]
  }
 ],
 "metadata": {
  "kernelspec": {
   "display_name": "Python 3 (ipykernel)",
   "language": "python",
   "name": "python3"
  },
  "language_info": {
   "codemirror_mode": {
    "name": "ipython",
    "version": 3
   },
   "file_extension": ".py",
   "mimetype": "text/x-python",
   "name": "python",
   "nbconvert_exporter": "python",
   "pygments_lexer": "ipython3",
   "version": "3.13.1"
  }
 },
 "nbformat": 4,
 "nbformat_minor": 4
}
