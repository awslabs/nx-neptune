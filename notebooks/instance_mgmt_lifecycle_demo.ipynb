{
 "cells": [
  {
   "cell_type": "markdown",
   "metadata": {},
   "source": [
    "# Neptune Analytics Instance Management Lifecycle Demo\n",
    "\n",
    "This notebook demonstrates how to:\n",
    "1. Create a new Neptune Analytics instance on-demand.\n",
    "2. Import demo dataset to on-demand instance from S3.\n",
    "3. Run graph algorithms on the provisioned instance.\n",
    "4. Delete the on-demand instance after the computation. \n",
    "\n",
    "The notebook uses the `create_na_instance` and `delete_na_instance` functions to provision and destroy Neptune Analytics instance when needed."
   ]
  },
  {
   "cell_type": "markdown",
   "metadata": {},
   "source": [
    "## Setup\n",
    "\n",
    "Import the necessary libraries and set up logging."
   ]
  },
  {
   "cell_type": "code",
   "execution_count": null,
   "metadata": {},
   "outputs": [],
   "source": [
    "import logging\n",
    "import sys\n",
    "import os\n",
    "\n",
    "import networkx as nx\n",
    "from nx_neptune import NeptuneGraph\n",
    "from nx_neptune.instance_management import create_na_instance, import_csv_from_s3, delete_na_instance"
   ]
  },
  {
   "cell_type": "code",
   "execution_count": null,
   "metadata": {},
   "outputs": [],
   "source": [
    "# Configure logging to see detailed information about the instance creation process\n",
    "logging.basicConfig(\n",
    "    level=logging.INFO,\n",
    "    format='%(levelname)s - %(message)s',\n",
    "    datefmt='%Y-%m-%d %H:%M:%S',\n",
    "    stream=sys.stdout  # Explicitly set output to stdout\n",
    ")\n",
    "# Enable debug logging for the instance management module\n",
    "for logger_name in ['nx_neptune.instance_management']:\n",
    "    logging.getLogger(logger_name).setLevel(logging.DEBUG)\n",
    "logger = logging.getLogger(__name__)"
   ]
  },
  {
   "cell_type": "markdown",
   "metadata": {},
   "source": [
    "## Configuration\n",
    "\n",
    "Check for environment variables and configure the NetworkX backend for Neptune Analytics."
   ]
  },
  {
   "cell_type": "code",
   "execution_count": null,
   "metadata": {},
   "outputs": [],
   "source": [
    "def check_env_vars(var_names):\n",
    "    values = {}\n",
    "    for var_name in var_names:\n",
    "        value = os.getenv(var_name)\n",
    "        if not value:\n",
    "            print(f\"Warning: Environment Variable {var_name} is not defined\")\n",
    "            print(f\"You can set it using: %env {var_name}=your-value\")\n",
    "        else:\n",
    "            print(f\"Using {var_name}: {value}\")\n",
    "        values[var_name] = value\n",
    "    return values\n",
    "    \n",
    "# Check for optional environment variables\n",
    "env_vars = check_env_vars(['ARN_S3_IMPORT', 'ARN_IAM_ROLE'])\n",
    "\n",
    "# Get environment variables\n",
    "s3_location_import = os.getenv('ARN_S3_IMPORT')  # Optional: for importing data after creation\n",
    "role_arn = os.getenv('ARN_IAM_ROLE')  # Required for S3 import"
   ]
  },
  {
   "cell_type": "markdown",
   "metadata": {},
   "source": [
    "## Create a New Neptune Analytics Instance\n",
    "\n",
    "Provision a new Neptune Analytics instance on demand. This process may take several minutes to complete."
   ]
  },
  {
   "cell_type": "code",
   "execution_count": null,
   "metadata": {},
   "outputs": [],
   "source": [
    "graph_id = await create_na_instance()\n",
    "logger.info(f\"A new instance is created with graph-id: {graph_id}\")"
   ]
  },
  {
   "cell_type": "markdown",
   "metadata": {},
   "source": [
    "## Import Data from S3\n",
    "\n",
    "Import data from S3 into the Neptune Analytics graph and wait for the operation to complete. <br>\n",
    "IAM permisisons required for import: <br>\n",
    " - s3:GetObject, kms:Decrypt, kms:GenerateDataKey, kms:DescribeKey"
   ]
  },
  {
   "cell_type": "code",
   "execution_count": null,
   "metadata": {},
   "outputs": [],
   "source": [
    "os.environ['GRAPH_ID'] = graph_id\n",
    "na_graph = NeptuneGraph.from_config(graph=nx.DiGraph())\n",
    "future = import_csv_from_s3(\n",
    "na_graph, s3_location_import)\n",
    "import_blocking_status = await future\n",
    "print(\"Import completed with status: \" + import_blocking_status)"
   ]
  },
  {
   "cell_type": "markdown",
   "metadata": {},
   "source": [
    "## Execcute BFS Algorithm\n",
    "\n",
    "Create a NetworkX graph and initialize the connection to the Neptune Analytics instance."
   ]
  },
  {
   "cell_type": "code",
   "execution_count": null,
   "metadata": {},
   "outputs": [],
   "source": [
    "g = nx.DiGraph()\n",
    "# BFS on Air route\n",
    "r = list(nx.bfs_edges(g, source=\"48\", backend=\"neptune\"))\n",
    "print('BFS search on Neptune Analytics with source=48 (Vancouver international airport): ')\n",
    "print(f\"Total size of the result: {len(r)}\")\n"
   ]
  },
  {
   "cell_type": "markdown",
   "metadata": {},
   "source": [
    "## Delete the Neptune Analytics Instance\n",
    "\n",
    "Delete the Neptune Analytics instance after the computation. This process may take several minutes to complete."
   ]
  },
  {
   "cell_type": "code",
   "execution_count": null,
   "metadata": {},
   "outputs": [],
   "source": [
    "fut = await delete_na_instance(graph_id)\n",
    "logger.info(f\"Instance delete completed with status: {fut}\")\n"
   ]
  },
  {
   "cell_type": "markdown",
   "metadata": {},
   "source": [
    "## Conclusion\n",
    "\n",
    "This notebook demonstrated the complete lifecycle of a Neptune Analytics instance:\n",
    "\n",
    "1. **Creation**: We created a new Neptune Analytics instance on demand\n",
    "2. **Import**: We imported the demo Air Route dataset from \n",
    "3. **Usage**: We ran graph algorithms (BFS) on the instance\n",
    "4. **Deletion**: We deleted the on demand instance after the computation is conducted\n",
    "\n",
    "The `create_na_instance()` and `delete_na_instance` functions make it easy to provision and destroy Neptune Analytics resources when needed, enabling seamless scaling of graph computations."
   ]
  }
 ],
 "metadata": {
  "kernelspec": {
   "display_name": "Python 3 (ipykernel)",
   "language": "python",
   "name": "python3"
  },
  "language_info": {
   "codemirror_mode": {
    "name": "ipython",
    "version": 3
   },
   "file_extension": ".py",
   "mimetype": "text/x-python",
   "name": "python",
   "nbconvert_exporter": "python",
   "pygments_lexer": "ipython3",
   "version": "3.13.5"
  }
 },
 "nbformat": 4,
 "nbformat_minor": 4
}
