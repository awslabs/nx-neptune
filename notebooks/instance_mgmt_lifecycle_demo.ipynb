{
 "cells": [
  {
   "cell_type": "markdown",
   "metadata": {},
   "source": [
    "# Neptune Analytics Instance Management Lifecycle Demo\n",
    "\n",
    "This notebook demonstrates how to:\n",
    "1. Create a new Neptune Analytics instance on-demand\n",
    "2. Configure the NetworkX backend to use the newly created instance\n",
    "3. Run graph algorithms on the provisioned instance\n",
    "4. Understand the complete lifecycle of Neptune Analytics resources\n",
    "\n",
    "The notebook uses the `create_na_instance` function to provision a new Neptune Analytics instance when needed."
   ]
  },
  {
   "cell_type": "markdown",
   "metadata": {},
   "source": [
    "## Setup\n",
    "\n",
    "Import the necessary libraries and set up logging."
   ]
  },
  {
   "cell_type": "code",
   "execution_count": null,
   "metadata": {},
   "outputs": [],
   "source": [
    "import asyncio\n",
    "import logging\n",
    "import sys\n",
    "import os\n",
    "\n",
    "import boto3\n",
    "import networkx as nx\n",
    "from nx_neptune import NeptuneGraph\n",
    "from nx_neptune.instance_management import create_na_instance, import_csv_from_s3\n",
    "import matplotlib.pyplot as plt"
   ]
  },
  {
   "cell_type": "code",
   "execution_count": null,
   "metadata": {},
   "outputs": [],
   "source": [
    "# Configure logging to see detailed information about the instance creation process\n",
    "logging.basicConfig(\n",
    "    level=logging.INFO,\n",
    "    format='%(levelname)s - %(message)s',\n",
    "    datefmt='%Y-%m-%d %H:%M:%S',\n",
    "    stream=sys.stdout  # Explicitly set output to stdout\n",
    ")\n",
    "# Enable debug logging for the instance management module\n",
    "for logger_name in ['nx_neptune.instance_management']:\n",
    "    logging.getLogger(logger_name).setLevel(logging.DEBUG)\n",
    "logger = logging.getLogger(__name__)"
   ]
  },
  {
   "cell_type": "markdown",
   "metadata": {},
   "source": [
    "## Configuration\n",
    "\n",
    "Check for environment variables and configure the NetworkX backend for Neptune Analytics."
   ]
  },
  {
   "cell_type": "code",
   "execution_count": null,
   "metadata": {},
   "outputs": [],
   "source": [
    "def check_env_vars(var_names):\n",
    "    values = {}\n",
    "    for var_name in var_names:\n",
    "        value = os.getenv(var_name)\n",
    "        if not value:\n",
    "            print(f\"Warning: Environment Variable {var_name} is not defined\")\n",
    "            print(f\"You can set it using: %env {var_name}=your-value\")\n",
    "        else:\n",
    "            print(f\"Using {var_name}: {value}\")\n",
    "        values[var_name] = value\n",
    "    return values\n",
    "    \n",
    "# Check for optional environment variables\n",
    "env_vars = check_env_vars(['ARN_S3_IMPORT', 'ARN_IAM_ROLE', 'GRAPH_ID'])\n",
    "\n",
    "# Get environment variables\n",
    "s3_location_import = os.getenv('ARN_S3_IMPORT')  # Optional: for importing data after creation\n",
    "role_arn = os.getenv('ARN_IAM_ROLE')  # Required for S3 import\n",
    "graph_id = os.getenv('GRAPH_ID')  # Optional: if you want to use an existing instance"
   ]
  },
  {
   "cell_type": "markdown",
   "metadata": {},
   "source": [
    "## Configure NetworkX Backend\n",
    "\n",
    "Set up the NetworkX configuration to enable automatic instance creation."
   ]
  },
  {
   "cell_type": "code",
   "execution_count": null,
   "metadata": {},
   "outputs": [],
   "source": [
    "# Access the NetworkX configuration for the Neptune backend\n",
    "nx_config = nx.config['backends']['neptune']\n"
   ]
  },
  {
   "cell_type": "markdown",
   "metadata": {},
   "source": [
    "## Option 1 - Create a New Neptune Analytics Instance\n",
    "\n",
    "Provision a new Neptune Analytics instance on demand. This process may take several minutes to complete."
   ]
  },
  {
   "cell_type": "code",
   "execution_count": null,
   "metadata": {},
   "outputs": [],
   "source": [
    "nx_config['create_instance'] = True\n",
    "# Create a new Neptune Analytics instance\n",
    "future = create_na_instance()\n",
    "\n",
    "# Wait for the instance to be created and available\n",
    "await future\n",
    "\n",
    "# Get the graph_id of the newly created instance\n",
    "new_graph_id = future.result()\n",
    "print(f\"Successfully created a new Neptune Analytics instance with graph_id: {new_graph_id}\")\n",
    "\n",
    "# Update the NetworkX configuration with the new graph_id\n",
    "nx_config['graph_id'] = new_graph_id"
   ]
  },
  {
   "cell_type": "markdown",
   "metadata": {},
   "source": [
    "## Option 2 - Create a New Neptune Analytics Instance with s3 data\n",
    "\n",
    "Provision a new Neptune Analytics instance on demand. This process may take several minutes to complete."
   ]
  },
  {
   "cell_type": "code",
   "execution_count": null,
   "metadata": {},
   "outputs": [],
   "source": [
    "nx_config['graph_id'] = ''\n",
    "nx_config['create_instance'] = True\n",
    "nx_config['s3_import_path'] = s3_location_import\n",
    "nx_config['role_arn'] = role_arn\n",
    "\n",
    "# Create a new Neptune Analytics instance\n",
    "future = create_na_instance()\n",
    "\n",
    "# Wait for the instance to be created and available\n",
    "await future\n",
    "\n",
    "# Get the graph_id of the newly created instance\n",
    "graph_id = future.result()\n",
    "print(f\"Successfully created a new Neptune Analytics instance wirh air route dataset.\")\n",
    "\n",
    "\n",
    "# Update the NetworkX configuration with the new graph_id\n",
    "nx_config['graph_id'] = graph_id\n",
    "os.environ['GRAPH_ID'] = graph_id\n"
   ]
  },
  {
   "cell_type": "markdown",
   "metadata": {},
   "source": [
    "## Initialize a Graph and Connect to Neptune Analytics\n",
    "\n",
    "Create a NetworkX graph and initialize the connection to the Neptune Analytics instance."
   ]
  },
  {
   "cell_type": "code",
   "execution_count": null,
   "metadata": {},
   "outputs": [],
   "source": [
    "BACKEND = \"neptune\"\n",
    "g = nx.DiGraph()\n",
    "# BFS on Air route\n",
    "r = list(nx.bfs_edges(g, source=\"48\", backend=BACKEND))\n",
    "print('BFS search on Neptune Analytics with source=48 (Vancouver international airport): ')\n",
    "print(f\"Total size of the result: {len(r)}\")\n"
   ]
  },
  {
   "cell_type": "markdown",
   "metadata": {},
   "source": [
    "## Conclusion\n",
    "\n",
    "This notebook demonstrated the complete lifecycle of a Neptune Analytics instance:\n",
    "\n",
    "1. **Creation**: We created a new Neptune Analytics instance on demand\n",
    "2. **Configuration**: We configured NetworkX to use the new instance\n",
    "3. **Usage**: We ran graph algorithms on the instance\n",
    "4. **Management**: We discussed options for managing the instance lifecycle\n",
    "\n",
    "The `create_na_instance()` function makes it easy to provision Neptune Analytics resources when needed, enabling seamless scaling of graph computations without changing your code."
   ]
  }
 ],
 "metadata": {
  "kernelspec": {
   "display_name": "Python 3 (ipykernel)",
   "language": "python",
   "name": "python3"
  },
  "language_info": {
   "codemirror_mode": {
    "name": "ipython",
    "version": 3
   },
   "file_extension": ".py",
   "mimetype": "text/x-python",
   "name": "python",
   "nbconvert_exporter": "python",
   "pygments_lexer": "ipython3",
   "version": "3.13.1"
  }
 },
 "nbformat": 4,
 "nbformat_minor": 4
}
