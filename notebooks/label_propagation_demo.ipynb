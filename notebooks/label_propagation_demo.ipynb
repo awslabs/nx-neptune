{
 "cells": [
  {
   "cell_type": "markdown",
   "metadata": {},
   "source": [
    "# Label Propagation algorithms with Neptune Analytics\n",
    "\n",
    "This notebook demonstrates how the Label Propagation algorithms computation can be offloaded to a remote AWS Neptune Analytics instance."
   ]
  },
  {
   "cell_type": "markdown",
   "metadata": {},
   "source": [
    "## Setup and Imports\n",
    "\n",
    "First, let's import the necessary libraries and set up logging."
   ]
  },
  {
   "cell_type": "code",
   "execution_count": null,
   "metadata": {},
   "outputs": [],
   "source": [
    "import networkx as nx\n",
    "from nx_neptune import NeptuneGraph\n",
    "from nx_neptune.clients import Node\n",
    "import logging\n",
    "import os\n",
    "import matplotlib.pyplot as plt\n",
    "from nx_neptune.utils.utils import get_stdout_logger\n",
    "import requests\n",
    "import pandas as pd"
   ]
  },
  {
   "cell_type": "code",
   "execution_count": null,
   "metadata": {},
   "outputs": [],
   "source": [
    "logger = get_stdout_logger(__name__,[\n",
    "                    'nx_neptune.algorithms.communities.label_propagation',\n",
    "                    'nx_neptune.na_graph', 'nx_neptune.utils.decorators',\n",
    "                    'nx_neptune.instance_management',__name__])\n",
    "\n",
    "# Ignore cache warnings\n",
    "nx.config.warnings_to_ignore.add(\"cache\")"
   ]
  },
  {
   "cell_type": "markdown",
   "metadata": {},
   "source": [
    "## Check for Neptune Analytics Graph ID\n",
    "\n",
    "We need to ensure that the NETWORKX_GRAPH_ID environment variable is set. You can also set it directly in this notebook."
   ]
  },
  {
   "cell_type": "code",
   "execution_count": null,
   "metadata": {},
   "outputs": [],
   "source": [
    "# Read and load graphId from environment variable\n",
    "graph_id = os.getenv('NETWORKX_GRAPH_ID')\n",
    "\n",
    "# If not set, you can set it here\n",
    "if not graph_id:\n",
    "    # Uncomment and set your Graph ID\n",
    "    # %env NETWORKX_GRAPH_ID=your-neptune-analytics-graph-id\n",
    "    # graph_id = os.getenv('NETWORKX_GRAPH_ID')\n",
    "    print(\"Warning: Environment Variable NETWORKX_GRAPH_ID is not defined\")\n",
    "    print(\"You can set it using: %env NETWORKX_GRAPH_ID=your-neptune-analytics-graph-id\")\n",
    "else:\n",
    "    print(f\"Using Neptune Analytics Graph ID: {graph_id}\")"
   ]
  },
  {
   "cell_type": "markdown",
   "metadata": {},
   "source": [
    "## Download and configure Air route dataset\n",
    "\n",
    "Then download the air route dataset for testing purpose."
   ]
  },
  {
   "cell_type": "code",
   "execution_count": null,
   "metadata": {},
   "outputs": [],
   "source": [
    "# Download routes data\n",
    "routes_url = \"https://raw.githubusercontent.com/jpatokal/openflights/master/data/routes.dat\"\n",
    "routes_file = \"resources/notebook_test_data_routes.dat\"\n",
    "\n",
    "# Ensure the directory exists\n",
    "os.makedirs(os.path.dirname(routes_file), exist_ok=True)\n",
    "\n",
    "# Download only if file doesn't exist\n",
    "if not os.path.isfile(routes_file):\n",
    "    with open(routes_file, \"wb\") as f:\n",
    "        f.write(requests.get(routes_url).content)\n",
    "\n",
    "\n",
    "cols = [\n",
    "    \"airline\", \"airline_id\", \"source_airport\", \"source_airport_id\",\n",
    "    \"dest_airport\", \"dest_airport_id\", \"codeshare\", \"stops\", \"equipment\"\n",
    "]\n",
    "\n",
    "routes_df = pd.read_csv(\"resources/notebook_test_data_routes.dat\", names=cols, header=None)\n",
    "\n",
    "air_route_graph = nx.Graph()  # use DiGraph for directed air routes\n",
    "\n",
    "for _, row in routes_df.iterrows():\n",
    "    src = row[\"source_airport\"]\n",
    "    dst = row[\"dest_airport\"]\n",
    "    if pd.notnull(src) and pd.notnull(dst):\n",
    "        air_route_graph.add_edge(src, dst)\n",
    "logger.info(f'Populated test dataset with nodes:{air_route_graph.number_of_nodes()} and edges:{air_route_graph.number_of_edges()}')"
   ]
  },
  {
   "cell_type": "markdown",
   "metadata": {},
   "source": [
    "### Example 1: Label Propagation Communities\n",
    "\n",
    "Let's start with running the label_propagation_communities() Algorithm against the air route data and list out the top 10 results"
   ]
  },
  {
   "cell_type": "code",
   "execution_count": null,
   "metadata": {},
   "outputs": [],
   "source": [
    "result_na = nx.community.label_propagation_communities(air_route_graph, backend=\"neptune\")\n",
    "logger.info(\"Algorithm execution - Neptune Analytics: \")\n",
    "\n",
    "# Sort \n",
    "sorted_lists = sorted(list(result_na), key=len, reverse=True)\n",
    "# Get top 5 and print first 3 items of each\n",
    "for i, lst in enumerate(sorted_lists[:5], 1):\n",
    "    logger.info(f\"Top {i}: {lst[:3]}\")"
   ]
  },
  {
   "cell_type": "markdown",
   "metadata": {},
   "source": [
    "### Example 2: Fast Label Propagation Communities\n",
    "\n",
    "Execute **fast_label_propagation_communities()** against air route dataset on remote Neptune Analytics instance\n",
    "\n",
    "**In Neptune Analytics, label propagation maps all NetworkX variants to the same algorithm, using a fixed label update strategy. Variant-specific control over the update method (e.g., synchronous vs. asynchronous) is not configurable.**\n",
    "\n",
    "Reference: https://docs.aws.amazon.com/neptune-analytics/latest/userguide/label-propagation.html"
   ]
  },
  {
   "cell_type": "code",
   "execution_count": null,
   "metadata": {},
   "outputs": [],
   "source": [
    "result_na = nx.community.fast_label_propagation_communities(air_route_graph, backend=\"neptune\")\n",
    "\n",
    "# Sort \n",
    "sorted_lists = sorted(list(result_na), key=len, reverse=True)\n",
    "# Get top 5 and print first 3 items of each\n",
    "for i, lst in enumerate(sorted_lists[:5], 1):\n",
    "    logger.info(f\"Top {i}: {lst[:3]}\")"
   ]
  },
  {
   "cell_type": "markdown",
   "metadata": {},
   "source": [
    "### Example 3: Async Label Propagation Communities\n",
    "\n",
    "Execute **asyn_lpa_communities** against air route dataset on remote Neptune Analytics instance\n",
    "\n",
    "**In Neptune Analytics, label propagation maps all NetworkX variants to the same algorithm, using a fixed label update strategy. Variant-specific control over the update method (e.g., synchronous vs. asynchronous) is not configurable.**\n",
    "\n",
    "Reference: https://docs.aws.amazon.com/neptune-analytics/latest/userguide/label-propagation.html"
   ]
  },
  {
   "cell_type": "code",
   "execution_count": null,
   "metadata": {},
   "outputs": [],
   "source": [
    "result_na = nx.community.asyn_lpa_communities(air_route_graph, backend=\"neptune\")\n",
    "\n",
    "# Sort \n",
    "sorted_lists = sorted(list(result_na), key=len, reverse=True)\n",
    "# Get top 5 and print first 3 items of each\n",
    "for i, lst in enumerate(sorted_lists[:5], 1):\n",
    "    logger.info(f\"Top {i}: {lst[:3]}\")"
   ]
  },
  {
   "cell_type": "markdown",
   "metadata": {},
   "source": [
    "### Example 4: Execute Label Propagation Communities Mutation Algorithm\n",
    "\n",
    "Execute Label Propagation Communities Mutation algorithm against air route dataset on remote Neptune Analytics instance, then retrieve the first 10 nodes to verify result indeed being written into each node with property name 'communities'."
   ]
  },
  {
   "cell_type": "code",
   "execution_count": null,
   "metadata": {},
   "outputs": [],
   "source": [
    "result_na = nx.community.label_propagation_communities(air_route_graph, backend=\"neptune\", write_property=\"communities\")\n",
    "logger.info(\"Algorithm execution - Neptune Analytics: \")\n",
    "\n",
    "\"\"\"List 10 nodes\"\"\"\n",
    "nx_graph = NeptuneGraph.from_config(graph=air_route_graph)\n",
    "for item in nx_graph.get_all_nodes()[:10]:\n",
    "    logger.info(Node.from_neptune_response(item))"
   ]
  }
 ],
 "metadata": {
  "kernelspec": {
   "display_name": "Python 3 (ipykernel)",
   "language": "python",
   "name": "python3"
  },
  "language_info": {
   "codemirror_mode": {
    "name": "ipython",
    "version": 3
   },
   "file_extension": ".py",
   "mimetype": "text/x-python",
   "name": "python",
   "nbconvert_exporter": "python",
   "pygments_lexer": "ipython3",
   "version": "3.13.1"
  }
 },
 "nbformat": 4,
 "nbformat_minor": 4
}
