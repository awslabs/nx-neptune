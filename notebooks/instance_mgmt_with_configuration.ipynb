{
 "cells": [
  {
   "cell_type": "markdown",
   "metadata": {},
   "source": [
    "# Neptune Analytics Instance Management Full Lifecycle Demo\n",
    "\n",
    "This notebook demonstrates how to:\n",
    "1. Run an algorithm (pagerank) on Neptune Analytics, including instance creation and destroy.\n",
    "2. Run an algorithm (pagerank) on Neptune Analytics against a CSV file and an existing graph instance.\n",
    "3. Run a mutating algorithm (pagerank) on Neptune Analytics against a CSV file and export the results to S3 as a CSV.\n",
    "\n",
    "This demo uses the backend configuration to manage the entire workflow."
   ]
  },
  {
   "cell_type": "markdown",
   "metadata": {},
   "source": [
    "## Setup\n",
    "\n",
    "Import the necessary libraries and set up logging."
   ]
  },
  {
   "cell_type": "code",
   "execution_count": null,
   "metadata": {},
   "outputs": [],
   "source": [
    "import logging\n",
    "import sys\n",
    "\n",
    "import networkx as nx"
   ]
  },
  {
   "cell_type": "code",
   "execution_count": null,
   "metadata": {},
   "outputs": [],
   "source": [
    "# Configure logging to see detailed information about the instance creation process\n",
    "logging.basicConfig(\n",
    "    level=logging.INFO,\n",
    "    format='%(levelname)s - %(message)s',\n",
    "    datefmt='%Y-%m-%d %H:%M:%S',\n",
    "    stream=sys.stdout  # Explicitly set output to stdout\n",
    ")\n",
    "for logger_name in ['nx_neptune.utils.decorators']:\n",
    "    logging.getLogger(logger_name).setLevel(logging.DEBUG)"
   ]
  },
  {
   "cell_type": "markdown",
   "metadata": {},
   "source": [
    "## Example 1\n",
    "\n",
    "In this example, we will run networkx pagerank algorithm in Neptune Analytics without an existing instance being defined.  The workflow is defined in the configuration, and the configuration will create a new neptune-graph instance, sync data, and run pagerank.\n",
    "\n",
    "We will re-use the graph instance in the following examples."
   ]
  },
  {
   "cell_type": "code",
   "execution_count": null,
   "metadata": {},
   "outputs": [],
   "source": [
    "nx.config.backends.neptune.create_new_instance = False\n",
    "# Or with custom configuration, detail usage can be found under:\n",
    "# https://boto3.amazonaws.com/v1/documentation/api/latest/reference/services/neptune-graph/client/create_graph.html\n",
    "# nx.config.backends.neptune.create_new_instance = {\n",
    "#     \"provisionedMemory\": 32,\n",
    "#     \"tags\": {\"additional_tag\": \"test_with_additional_tag\"},\n",
    "# }\n",
    "nx.config.backends.neptune.graph_id = \"<GRAPH_ID>\"\n",
    "nx.config.backends.neptune.destroy_instance = False\n",
    "\n",
    "g = nx.DiGraph()\n",
    "g.add_node(\"Alice\")\n",
    "g.add_node(\"Bob\")\n",
    "g.add_node(\"Carl\")\n",
    "g.add_edge(\"Alice\", \"Bob\")\n",
    "g.add_edge(\"Alice\", \"Carl\")\n",
    "\n",
    "BACKEND = \"neptune\"\n",
    "\n",
    "r_neptune = nx.pagerank(g, backend=\"neptune\")\n",
    "print(\"PageRank results using Neptune Analytics:\")\n",
    "sorted_results = sorted(r_neptune.items(), key=lambda x: (x[1], x[0]), reverse=True)\n",
    "for key, value in sorted_results[:10]:\n",
    "    print(f\"{key}: {value:.6f}\")"
   ]
  },
  {
   "cell_type": "markdown",
   "metadata": {},
   "source": [
    "## Example 2\n",
    "\n",
    "In this example, we will run networkx pagerank algorithm in Neptune Analytics against an already existing graph instance.  Before running the algorithm, we will import results from S3."
   ]
  },
  {
   "cell_type": "code",
   "execution_count": null,
   "metadata": {},
   "outputs": [],
   "source": [
    "nx.config.backends.neptune.create_new_instance = False\n",
    "# define this value if the previous step was not run; otherwise it will be defined automatically\n",
    "# nx.config.backends.neptune.graph_id = \"<GRAPH_ID>\"\n",
    "nx.config.backends.neptune.skip_graph_reset = True\n",
    "nx.config.backends.neptune.import_s3_bucket = \"<your-s3-bucket>/cit-Patents\"\n",
    "nx.config.backends.neptune.s3_iam_role = \"<your-role>\"\n",
    "nx.config.backends.neptune.destroy_instance = False\n",
    "\n",
    "print(f\"Using instance graph: {nx.config.backends.neptune.graph_id}\")\n",
    "\n",
    "g = nx.DiGraph()\n",
    "\n",
    "BACKEND = \"neptune\"\n",
    "\n",
    "r_neptune = nx.pagerank(g, backend=\"neptune\")\n",
    "print(\"PageRank results using Neptune Analytics:\")\n",
    "sorted_results = sorted(r_neptune.items(), key=lambda x: (x[1], x[0]), reverse=True)\n",
    "for key, value in sorted_results[:10]:\n",
    "    print(f\"{key}: {value:.6f}\")"
   ]
  },
  {
   "cell_type": "markdown",
   "metadata": {},
   "source": [
    "## Example 3\n",
    "\n",
    "In this example, we will run networkx pagerank algorithm in Neptune Analytics using an existing instance.  We will run clean up operations in the workflow.  Once the algorithm is complete, we will export the graph contents to S3 as a Gremlin CSV, and destroy the instance."
   ]
  },
  {
   "cell_type": "code",
   "execution_count": null,
   "metadata": {},
   "outputs": [],
   "source": [
    "nx.config.backends.neptune.create_new_instance = False\n",
    "# define this value if the previous step was not run; otherwise it will be defined automatically\n",
    "# nx.config.backends.neptune.graph_id = \"<GRAPH_ID>\"\n",
    "nx.config.backends.neptune.import_s3_bucket = None\n",
    "nx.config.backends.neptune.export_s3_bucket = \"<your-s3-bucket>/export\"\n",
    "nx.config.backends.neptune.s3_iam_role = \"<your-role>\"\n",
    "nx.config.backends.neptune.destroy_instance = True\n",
    "\n",
    "print(f\"Using instance graph: {nx.config.backends.neptune.graph_id}\")\n",
    "\n",
    "g = nx.DiGraph()\n",
    "\n",
    "BACKEND = \"neptune\"\n",
    "\n",
    "r_neptune = nx.pagerank(g, backend=\"neptune\")\n",
    "print(\"PageRank results using Neptune Analytics:\")\n",
    "sorted_results = sorted(r_neptune.items(), key=lambda x: (x[1], x[0]), reverse=True)\n",
    "for key, value in sorted_results[:10]:\n",
    "    print(f\"{key}: {value:.6f}\")"
   ]
  },
  {
   "cell_type": "markdown",
   "metadata": {},
   "source": [
    "## Conclusion\n",
    "\n",
    "This notebook demonstrated the complete lifecycle of a Neptune Analytics instance:\n",
    "\n",
    "1. **Creation**: We created a new Neptune Analytics instance on demand.\n",
    "2. **Re-use Graph** and **Import**: We imported the demo Citations dataset from S3 into the newly created instance.\n",
    "3. **Export** and **Deletion**: We export the demo Citations dataset to S3 and deleted the on demand instance after the computation is completed."
   ]
  }
 ],
 "metadata": {
  "kernelspec": {
   "display_name": "Python 3 (ipykernel)",
   "language": "python",
   "name": "python3"
  },
  "language_info": {
   "codemirror_mode": {
    "name": "ipython",
    "version": 3
   },
   "file_extension": ".py",
   "mimetype": "text/x-python",
   "name": "python",
   "nbconvert_exporter": "python",
   "pygments_lexer": "ipython3",
   "version": "3.13.1"
  }
 },
 "nbformat": 4,
 "nbformat_minor": 4
}
