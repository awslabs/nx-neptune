{
 "cells": [
  {
   "cell_type": "markdown",
   "metadata": {},
   "source": [
    "# Degree Algorithm with Neptune Analytics\n",
    "\n",
    "This notebook demonstrates how the Degree algorithms computation can be offloaded to a remote AWS Neptune Analytics instance."
   ]
  },
  {
   "cell_type": "markdown",
   "metadata": {},
   "source": [
    "## Setup and Imports\n",
    "\n",
    "First, let's import the necessary libraries and set up logging."
   ]
  },
  {
   "cell_type": "code",
   "execution_count": null,
   "metadata": {},
   "outputs": [],
   "source": [
    "import networkx as nx\n",
    "from nx_neptune import NeptuneGraph\n",
    "import logging\n",
    "import os\n",
    "import matplotlib.pyplot as plt\n",
    "from nx_neptune.utils.utils import get_stdout_logger\n",
    "import requests\n",
    "import pandas as pd"
   ]
  },
  {
   "cell_type": "code",
   "execution_count": null,
   "metadata": {},
   "outputs": [],
   "source": [
    "logger = get_stdout_logger(__name__,[\n",
    "                    'nx_neptune.algorithms.centrality.degree_centrality',\n",
    "                    'nx_neptune.na_graph', 'nx_neptune.utils.decorators', __name__])\n",
    "\n",
    "# Ignore cache warnings\n",
    "nx.config.warnings_to_ignore.add(\"cache\")"
   ]
  },
  {
   "cell_type": "markdown",
   "metadata": {},
   "source": [
    "## Check for Neptune Analytics Graph ID\n",
    "\n",
    "We need to ensure that the NETWORKX_GRAPH_ID environment variable is set. You can also set it directly in this notebook."
   ]
  },
  {
   "cell_type": "code",
   "execution_count": null,
   "metadata": {},
   "outputs": [],
   "source": [
    "# Read and load graphId from environment variable\n",
    "graph_id = os.getenv('NETWORKX_GRAPH_ID')\n",
    "\n",
    "# If not set, you can set it here\n",
    "if not graph_id:\n",
    "    # Uncomment and set your Graph ID\n",
    "    # %env NETWORKX_GRAPH_ID=your-neptune-analytics-graph-id\n",
    "    # graph_id = os.getenv('NETWORKX_GRAPH_ID')\n",
    "    print(\"Warning: Environment Variable NETWORKX_GRAPH_ID is not defined\")\n",
    "    print(\"You can set it using: %env NETWORKX_GRAPH_ID=your-neptune-analytics-graph-id\")\n",
    "else:\n",
    "    print(f\"Using Neptune Analytics Graph ID: {graph_id}\")"
   ]
  },
  {
   "cell_type": "markdown",
   "metadata": {},
   "source": [
    "## Download and configure Air route dataset\n",
    "\n",
    "Then download the air route dataset for testing purpose."
   ]
  },
  {
   "cell_type": "code",
   "execution_count": null,
   "metadata": {},
   "outputs": [],
   "source": [
    "# Download routes data\n",
    "routes_url = \"https://raw.githubusercontent.com/jpatokal/openflights/master/data/routes.dat\"\n",
    "routes_file = \"resources/notebook_test_data_routes.dat\"\n",
    "\n",
    "# Ensure the directory exists\n",
    "os.makedirs(os.path.dirname(routes_file), exist_ok=True)\n",
    "\n",
    "with open(routes_file, \"wb\") as f:\n",
    "    f.write(requests.get(routes_url).content)\n",
    "\n",
    "cols = [\n",
    "    \"airline\", \"airline_id\", \"source_airport\", \"source_airport_id\",\n",
    "    \"dest_airport\", \"dest_airport_id\", \"codeshare\", \"stops\", \"equipment\"\n",
    "]\n",
    "\n",
    "routes_df = pd.read_csv(\"resources/notebook_test_data_routes.dat\", names=cols, header=None)\n",
    "\n",
    "g = nx.DiGraph()  # use DiGraph for directed air routes\n",
    "\n",
    "for _, row in routes_df.iterrows():\n",
    "    src = row[\"source_airport\"]\n",
    "    dst = row[\"dest_airport\"]\n",
    "    if pd.notnull(src) and pd.notnull(dst):\n",
    "        g.add_edge(src, dst)\n",
    "print(f'Populated test dataset with nodes:{g.number_of_nodes()} and edges:{g.number_of_edges()}')"
   ]
  },
  {
   "cell_type": "markdown",
   "metadata": {},
   "source": [
    "### Example 1: Execute Degree Centrality Algorithm\n",
    "\n",
    "Let's start with running the Degree Centrality Algorithm against the air route data and list out the top 10 results"
   ]
  },
  {
   "cell_type": "code",
   "execution_count": null,
   "metadata": {},
   "outputs": [],
   "source": [
    "r = nx.degree_centrality(g, backend=\"neptune\")\n",
    "logger.info(\"Algorithm execution - Neptune Analytics: \")\n",
    "for key, value in sorted(r.items(), key=lambda x: (x[1], x[0]), reverse=True)[:10]:\n",
    "    logger.info(f\"{key}: {value}\")"
   ]
  },
  {
   "cell_type": "markdown",
   "metadata": {},
   "source": [
    "### Example 2: Execute In Degree Centrality Algorithm\n",
    "\n",
    "Execute In Degree Centrality algorithm against air route dataset on remote Neptune Analytics instance"
   ]
  },
  {
   "cell_type": "code",
   "execution_count": null,
   "metadata": {},
   "outputs": [],
   "source": [
    "r = nx.in_degree_centrality(g, backend=\"neptune\")\n",
    "logger.info(\"Algorithm execution - Neptune Analytics: \")\n",
    "for key, value in sorted(r.items(), key=lambda x: (x[1], x[0]), reverse=True)[:10]:\n",
    "    logger.info(f\"{key}: {value}\")"
   ]
  },
  {
   "cell_type": "markdown",
   "metadata": {},
   "source": [
    "### Example 3: Execute Out Degree Centrality Algorithm\n",
    "\n",
    "Execute Out Degree Centrality algorithm against air route dataset on remote Neptune Analytics instance"
   ]
  },
  {
   "cell_type": "code",
   "execution_count": null,
   "metadata": {},
   "outputs": [],
   "source": [
    "r = nx.out_degree_centrality(g, backend=\"neptune\")\n",
    "logger.info(\"Algorithm execution - Neptune Analytics: \")\n",
    "for key, value in sorted(r.items(), key=lambda x: (x[1], x[0]), reverse=True)[:10]:\n",
    "    logger.info(f\"{key}: {value}\")"
   ]
  }
 ],
 "metadata": {
  "kernelspec": {
   "display_name": "Python 3 (ipykernel)",
   "language": "python",
   "name": "python3"
  },
  "language_info": {
   "codemirror_mode": {
    "name": "ipython",
    "version": 3
   },
   "file_extension": ".py",
   "mimetype": "text/x-python",
   "name": "python",
   "nbconvert_exporter": "python",
   "pygments_lexer": "ipython3",
   "version": "3.13.1"
  }
 },
 "nbformat": 4,
 "nbformat_minor": 4
}
