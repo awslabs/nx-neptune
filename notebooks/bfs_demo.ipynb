{
 "cells": [
  {
   "cell_type": "markdown",
   "metadata": {},
   "source": [
    "# Breadth-First Search with Neptune Analytics\n",
    "\n",
    "This notebook demonstrates how to use AWS Neptune Analytics to offload Breadth-First Search (BFS) algorithm computations from a local cluster. We'll create several graph examples and run BFS on them using both standard NetworkX and Neptune Analytics as a backend."
   ]
  },
  {
   "cell_type": "markdown",
   "metadata": {},
   "source": [
    "## Setup and Imports\n",
    "\n",
    "First, let's import the necessary libraries and set up logging."
   ]
  },
  {
   "cell_type": "code",
   "execution_count": null,
   "metadata": {},
   "outputs": [],
   "source": [
    "import networkx as nx\n",
    "from nx_neptune import NeptuneGraph\n",
    "from nx_neptune.utils.utils import get_stdout_logger\n",
    "import logging\n",
    "import os\n",
    "import matplotlib.pyplot as plt\n",
    "import requests\n",
    "import pandas as pd"
   ]
  },
  {
   "cell_type": "code",
   "execution_count": null,
   "metadata": {},
   "outputs": [],
   "source": [
    "logger = get_stdout_logger(__name__,[\n",
    "                    'nx_neptune.algorithms.traversal.bfs',\n",
    "                    'nx_neptune.na_graph', 'nx_neptune.utils.decorators',\n",
    "                    'nx_neptune.instance_management',__name__])\n",
    "\n",
    "# Ignore cache warnings\n",
    "nx.config.warnings_to_ignore.add(\"cache\")"
   ]
  },
  {
   "cell_type": "markdown",
   "metadata": {},
   "source": [
    "## Check for Neptune Analytics Graph ID\n",
    "\n",
    "We need to ensure that the GRAPH_ID environment variable is set. You can also set it directly in this notebook."
   ]
  },
  {
   "cell_type": "code",
   "execution_count": null,
   "metadata": {},
   "outputs": [],
   "source": [
    "# Read and load graphId from environment variable\n",
    "graph_id = os.getenv('NETWORKX_GRAPH_ID')\n",
    "\n",
    "# If not set, you can set it here\n",
    "if not graph_id:\n",
    "    # Uncomment and set your Graph ID\n",
    "    # %env GRAPH_ID=your-neptune-analytics-graph-id\n",
    "    # graph_id = os.getenv('NETWORKX_GRAPH_ID')\n",
    "    print(\"Warning: Environment Variable NETWORKX_GRAPH_ID is not defined\")\n",
    "    print(\"You can set it using: %env NETWORKX_GRAPH_ID=your-neptune-analytics-graph-id\")\n",
    "else:\n",
    "    print(f\"Using Neptune Analytics Graph ID: {graph_id}\")\n",
    "\n",
    "# Define the backend we'll use\n",
    "BACKEND = \"neptune\"\n",
    "print(f\"Using backend={BACKEND}\")"
   ]
  },
  {
   "cell_type": "markdown",
   "metadata": {},
   "source": [
    "### Configure Air route dataset"
   ]
  },
  {
   "cell_type": "code",
   "execution_count": null,
   "metadata": {},
   "outputs": [],
   "source": [
    "# Download routes data\n",
    "routes_url = \"https://raw.githubusercontent.com/jpatokal/openflights/master/data/routes.dat\"\n",
    "routes_file = \"resources/notebook_test_data_routes.dat\"\n",
    "\n",
    "# Ensure the directory exists\n",
    "os.makedirs(os.path.dirname(routes_file), exist_ok=True)\n",
    "\n",
    "# Download only if file doesn't exist\n",
    "if not os.path.isfile(routes_file):\n",
    "    with open(routes_file, \"wb\") as f:\n",
    "        f.write(requests.get(routes_url).content)\n",
    "\n",
    "cols = [\n",
    "    \"airline\", \"airline_id\", \"source_airport\", \"source_airport_id\",\n",
    "    \"dest_airport\", \"dest_airport_id\", \"codeshare\", \"stops\", \"equipment\"\n",
    "]\n",
    "\n",
    "routes_df = pd.read_csv(\"resources/notebook_test_data_routes.dat\", names=cols, header=None)\n",
    "\n",
    "air_route_graph = nx.DiGraph()  # use DiGraph for directed air routes\n",
    "\n",
    "for _, row in routes_df.iterrows():\n",
    "    src = row[\"source_airport\"]\n",
    "    dst = row[\"dest_airport\"]\n",
    "    if pd.notnull(src) and pd.notnull(dst):\n",
    "        air_route_graph.add_edge(src, dst)\n",
    "print(f'Populated test dataset with nodes:{air_route_graph.number_of_nodes()} and edges:{air_route_graph.number_of_edges()}')"
   ]
  },
  {
   "cell_type": "markdown",
   "metadata": {},
   "source": [
    "## Clear the Neptune Analytics Graph\n",
    "\n",
    "Let's start with a clean slate by clearing any existing data in the Neptune Analytics graph."
   ]
  },
  {
   "cell_type": "code",
   "execution_count": null,
   "metadata": {},
   "outputs": [],
   "source": [
    "# Clear the Neptune Analytics graph\n",
    "g = nx.Graph()\n",
    "na_graph = NeptuneGraph.from_config(graph=g)\n",
    "na_graph.clear_graph()\n",
    "print(\"Neptune Analytics graph cleared successfully\")"
   ]
  },
  {
   "cell_type": "markdown",
   "metadata": {},
   "source": [
    "## Example 1: Named Nodes in a Directed Graph\n",
    "\n",
    "Let's create a simple directed graph with named nodes and run BFS on it."
   ]
  },
  {
   "cell_type": "code",
   "execution_count": null,
   "metadata": {},
   "outputs": [],
   "source": [
    "# Create a directed graph with named nodes\n",
    "G = nx.DiGraph()\n",
    "G.add_node(\"Alice\")\n",
    "G.add_node(\"Bob\")\n",
    "G.add_node(\"Carl\")\n",
    "G.add_edge(\"Alice\", \"Bob\")\n",
    "G.add_edge(\"Alice\", \"Carl\")\n",
    "\n",
    "# Visualize the graph\n",
    "plt.figure(figsize=(8, 6))\n",
    "pos = nx.spring_layout(G, seed=42)\n",
    "nx.draw(G, pos, with_labels=True, node_color='lightblue', \n",
    "        node_size=1500, font_size=12, arrows=True, arrowsize=20)\n",
    "plt.title(\"Directed Graph with Named Nodes\")\n",
    "plt.show()"
   ]
  },
  {
   "cell_type": "markdown",
   "metadata": {},
   "source": [
    "### BFS from Alice\n",
    "\n",
    "Let's run BFS starting from Alice and see what edges we get."
   ]
  },
  {
   "cell_type": "code",
   "execution_count": null,
   "metadata": {},
   "outputs": [],
   "source": [
    "# Run BFS from Alice using Neptune Analytics\n",
    "try:\n",
    "    print('Edges from BFS search from source=\"Alice\": ')\n",
    "    r = list(nx.bfs_edges(G, \"Alice\", backend=BACKEND))\n",
    "    print(r)  # Expected: [(\"Alice\", \"Bob\"), (\"Alice\", \"Carl\")]\n",
    "    \n",
    "    # Verify the results\n",
    "    assert isinstance(r, list)\n",
    "    assert len(r) == 2\n",
    "    assert [\"Alice\", \"Bob\"] in r\n",
    "    assert [\"Alice\", \"Carl\"] in r\n",
    "    print(\"✓ Verification passed\")\n",
    "except Exception as e:\n",
    "    print(f\"Error: {e}\")\n",
    "    print(\"Make sure GRAPH_ID is set and your AWS credentials are configured correctly.\")"
   ]
  },
  {
   "cell_type": "markdown",
   "metadata": {},
   "source": [
    "### BFS from Bob with Reverse Direction\n",
    "\n",
    "Now let's run BFS starting from Bob, but in the reverse direction of the edges, with a depth limit of 1."
   ]
  },
  {
   "cell_type": "code",
   "execution_count": null,
   "metadata": {},
   "outputs": [],
   "source": [
    "# Run BFS from Bob in reverse direction with depth limit 1\n",
    "try:\n",
    "    print('Edges from BFS search from source=\"Bob\"; reverse=True; depth_limit=1: ')\n",
    "    r = list(nx.bfs_edges(G, \"Bob\", backend=BACKEND, reverse=True, depth_limit=1))\n",
    "    print(r)  # Expected: [(\"Bob\", \"Alice\")]\n",
    "    \n",
    "    # Verify the results\n",
    "    assert isinstance(r, list)\n",
    "    assert len(r) == 1\n",
    "    assert [\"Bob\", \"Alice\"] in r\n",
    "    print(\"✓ Verification passed\")\n",
    "except Exception as e:\n",
    "    print(f\"Error: {e}\")\n",
    "    print(\"Make sure GRAPH_ID is set and your AWS credentials are configured correctly.\")"
   ]
  },
  {
   "cell_type": "markdown",
   "metadata": {},
   "source": [
    "## Example 2: Undirected Path Graph with 3 Nodes\n",
    "\n",
    "Let's create a path graph with 3 nodes and run BFS on it."
   ]
  },
  {
   "cell_type": "code",
   "execution_count": null,
   "metadata": {},
   "outputs": [],
   "source": [
    "# Clear the previous graph on Neptune\n",
    "na_graph = NeptuneGraph.from_config(graph=g)\n",
    "na_graph.clear_graph()\n",
    "\n",
    "# Create a path graph with 3 nodes\n",
    "# 0 -- 1 -- 2\n",
    "G = nx.path_graph(3)\n",
    "\n",
    "# Visualize the graph\n",
    "plt.figure(figsize=(8, 6))\n",
    "pos = nx.spring_layout(G, seed=42)\n",
    "nx.draw(G, pos, with_labels=True, node_color='lightgreen', \n",
    "        node_size=1500, font_size=12)\n",
    "plt.title(\"Path Graph with 3 Nodes\")\n",
    "plt.show()"
   ]
  },
  {
   "cell_type": "markdown",
   "metadata": {},
   "source": [
    "### BFS from Node 0\n",
    "\n",
    "Let's run BFS starting from node 0."
   ]
  },
  {
   "cell_type": "code",
   "execution_count": null,
   "metadata": {},
   "outputs": [],
   "source": [
    "# Run BFS from node 0\n",
    "try:\n",
    "    print('Edges from BFS search from source=0: ')\n",
    "    r = list(nx.bfs_edges(G, \"0\", backend=BACKEND))\n",
    "    print(r)  # Expected: [(0, 1), (1, 2)]\n",
    "    \n",
    "    # Verify the results\n",
    "    assert isinstance(r, list)\n",
    "    assert len(r) == 2\n",
    "    assert [\"0\", \"1\"] in r\n",
    "    assert [\"1\", \"2\"] in r\n",
    "    print(\"✓ Verification passed\")\n",
    "except Exception as e:\n",
    "    print(f\"Error: {e}\")\n",
    "    print(\"Make sure GRAPH_ID is set and your AWS credentials are configured correctly.\")"
   ]
  },
  {
   "cell_type": "markdown",
   "metadata": {},
   "source": [
    "### BFS from Node 0 with Depth Limit\n",
    "\n",
    "Let's run BFS starting from node 0 with a depth limit of 1."
   ]
  },
  {
   "cell_type": "code",
   "execution_count": null,
   "metadata": {},
   "outputs": [],
   "source": [
    "# Run BFS from node 0 with depth limit 1\n",
    "try:\n",
    "    print('Edges from BFS search from source=0; depth_limit=1: ')\n",
    "    r = list(nx.bfs_edges(G, source=\"0\", depth_limit=1, backend=BACKEND))\n",
    "    print(r)  # Expected: [(0, 1)]\n",
    "    \n",
    "    # Verify the results\n",
    "    assert r == [[\"0\", \"1\"]]\n",
    "    print(\"✓ Verification passed\")\n",
    "except Exception as e:\n",
    "    print(f\"Error: {e}\")\n",
    "    print(\"Make sure GRAPH_ID is set and your AWS credentials are configured correctly.\")"
   ]
  },
  {
   "cell_type": "markdown",
   "metadata": {},
   "source": [
    "### BFS from Node 1\n",
    "\n",
    "Let's run BFS starting from node 1."
   ]
  },
  {
   "cell_type": "code",
   "execution_count": null,
   "metadata": {},
   "outputs": [],
   "source": [
    "# Run BFS from node 1\n",
    "try:\n",
    "    print('Edges from BFS search from source=1: ')\n",
    "    r = list(nx.bfs_edges(G, source=\"1\", backend=BACKEND))\n",
    "    print(r)\n",
    "    \n",
    "    # Verify the results\n",
    "    assert len(r) == 2\n",
    "    assert [\"1\", \"0\"] in r\n",
    "    assert [\"1\", \"2\"] in r\n",
    "    print(\"✓ Verification passed\")\n",
    "except Exception as e:\n",
    "    print(f\"Error: {e}\")\n",
    "    print(\"Make sure GRAPH_ID is set and your AWS credentials are configured correctly.\")"
   ]
  },
  {
   "cell_type": "markdown",
   "metadata": {},
   "source": [
    "### BFS from Node 1 with Reverse Direction\n",
    "\n",
    "Let's run BFS starting from node 1 with reverse=True."
   ]
  },
  {
   "cell_type": "code",
   "execution_count": null,
   "metadata": {},
   "outputs": [],
   "source": [
    "# Run BFS from node 1 with reverse=True\n",
    "try:\n",
    "    print('Edges from BFS search from source=1; reversed=True: ')\n",
    "    r = list(nx.bfs_edges(G, source=\"1\", reverse=True, backend=BACKEND))\n",
    "    print(r)  # Expected: [(1, 0), (1, 2)]\n",
    "    \n",
    "    # Verify the results\n",
    "    assert isinstance(r, list)\n",
    "    assert len(r) == 2\n",
    "    assert [\"1\", \"0\"] in r\n",
    "    assert [\"1\", \"2\"] in r\n",
    "    print(\"✓ Verification passed\")\n",
    "except Exception as e:\n",
    "    print(f\"Error: {e}\")\n",
    "    print(\"Make sure GRAPH_ID is set and your AWS credentials are configured correctly.\")"
   ]
  },
  {
   "cell_type": "markdown",
   "metadata": {},
   "source": [
    "## EXAMPLE 3: Directed Path Graph\n",
    "\n",
    "Let's create a path graph with 3 nodes and run BFS on it."
   ]
  },
  {
   "cell_type": "code",
   "execution_count": null,
   "metadata": {},
   "outputs": [],
   "source": [
    "# Clear the previous graph on Neptune\n",
    "na_graph = NeptuneGraph.from_config(graph=g)\n",
    "na_graph.clear_graph()\n",
    "\n",
    "# Create a path graph with 3 nodes\n",
    "# 0 -- 1 -- 2\n",
    "digraph = nx.path_graph(3, create_using=nx.DiGraph())\n",
    "\n",
    "# Visualize the graph\n",
    "plt.figure(figsize=(8, 6))\n",
    "pos = nx.spring_layout(digraph, seed=42)\n",
    "nx.draw(digraph, pos, with_labels=True, node_color='lightgreen',\n",
    "        node_size=1500, font_size=12)\n",
    "plt.title(\"Path DiGraph with 3 Nodes\")\n",
    "plt.show()"
   ]
  },
  {
   "cell_type": "markdown",
   "metadata": {},
   "source": [
    "### BFS from Node 1 with Depth Limit\n",
    "\n",
    "Let's run BFS starting from node 1."
   ]
  },
  {
   "cell_type": "code",
   "execution_count": null,
   "metadata": {},
   "outputs": [],
   "source": [
    "# Run BFS from node 1\n",
    "try:\n",
    "    print('Edges from BFS search from source=1: ')\n",
    "    r = list(nx.bfs_edges(digraph, source=\"1\", backend=BACKEND))\n",
    "    print(r)  # Expected: [(1, 2)]\n",
    "\n",
    "    # Verify the results\n",
    "    assert len(r) == 1\n",
    "    assert [\"1\", \"2\"] in r\n",
    "    print(\"✓ Verification passed\")\n",
    "except Exception as e:\n",
    "    print(f\"Error: {e}\")\n",
    "    print(\"Make sure GRAPH_ID is set and your AWS credentials are configured correctly.\")"
   ]
  },
  {
   "cell_type": "markdown",
   "metadata": {},
   "source": [
    "## Example 4: Larger Path Graph\n",
    "\n",
    "Let's create a larger path graph with 12 nodes and run BFS on it."
   ]
  },
  {
   "cell_type": "code",
   "execution_count": null,
   "metadata": {},
   "outputs": [],
   "source": [
    "# Clear the previous graph on Neptune\n",
    "na_graph = NeptuneGraph.from_config(graph=g)\n",
    "na_graph.clear_graph()\n",
    "\n",
    "# Create a path graph with 12 nodes\n",
    "# 0 -- 1 -- 2 -- ... -- 11\n",
    "G = nx.path_graph(12)\n",
    "\n",
    "# Visualize the graph\n",
    "plt.figure(figsize=(12, 4))\n",
    "pos = nx.spring_layout(G, seed=42)\n",
    "nx.draw(G, pos, with_labels=True, node_color='lightcoral', \n",
    "        node_size=800, font_size=10)\n",
    "plt.title(\"Path Graph with 12 Nodes\")\n",
    "plt.show()"
   ]
  },
  {
   "cell_type": "markdown",
   "metadata": {},
   "source": [
    "### BFS from Node 6\n",
    "\n",
    "Let's run BFS starting from node 6 in the middle of the path."
   ]
  },
  {
   "cell_type": "code",
   "execution_count": null,
   "metadata": {},
   "outputs": [],
   "source": [
    "# Run BFS from node 6\n",
    "try:\n",
    "    print('Edges from BFS search from source=6: ')\n",
    "    r = list(nx.bfs_edges(G, source=\"6\", backend=BACKEND))\n",
    "    print(r)  # Expected: [(6, 5), (6, 7), (5, 4), ...]\n",
    "    \n",
    "    # Verify the results\n",
    "    assert isinstance(r, list)\n",
    "    assert len(r) == 11\n",
    "    \n",
    "    # Check edges going up\n",
    "    for i in [6, 7, 8, 9, 10]:\n",
    "        assert [str(i), str(i+1)] in r, f\"Edge ({i}, {i+1}) not found\"\n",
    "    \n",
    "    # Check edges going down\n",
    "    for i in [6, 5, 4, 3, 2, 1]:\n",
    "        assert [str(i), str(i-1)] in r, f\"Edge ({i}, {i-1}) not found\"\n",
    "        \n",
    "    print(\"✓ Verification passed\")\n",
    "except Exception as e:\n",
    "    print(f\"Error: {e}\")\n",
    "    print(\"Make sure GRAPH_ID is set and your AWS credentials are configured correctly.\")"
   ]
  },
  {
   "cell_type": "markdown",
   "metadata": {},
   "source": [
    "## Visualizing BFS Traversal\n",
    "\n",
    "Let's visualize the BFS traversal on our path graph with 12 nodes."
   ]
  },
  {
   "cell_type": "code",
   "execution_count": null,
   "metadata": {},
   "outputs": [],
   "source": [
    "def visualize_bfs_traversal(G, source, edges):\n",
    "    plt.figure(figsize=(12, 4))\n",
    "    pos = nx.spring_layout(G, seed=42)\n",
    "    \n",
    "    # Draw the graph\n",
    "    nx.draw_networkx_nodes(G, pos, node_color='lightgray', node_size=800)\n",
    "    nx.draw_networkx_edges(G, pos, width=1.0, alpha=0.5)\n",
    "    \n",
    "    # Highlight the source node\n",
    "    nx.draw_networkx_nodes(G, pos, nodelist=[source], node_color='red', node_size=800)\n",
    "    \n",
    "    # Highlight the BFS edges\n",
    "    nx.draw_networkx_edges(G, pos, edgelist=edges, width=2.0, edge_color='red')\n",
    "    \n",
    "    # Add labels\n",
    "    nx.draw_networkx_labels(G, pos, font_size=10)\n",
    "    \n",
    "    plt.title(f\"BFS Traversal from Node {source}\")\n",
    "    plt.axis('off')\n",
    "    plt.show()\n",
    "\n",
    "# Visualize BFS traversal from node 6\n",
    "try:\n",
    "    bfs_edges = list(nx.bfs_edges(G, source=\"6\", backend=BACKEND))\n",
    "    visualize_bfs_traversal(G, 6, [[int(e[0]), int(e[1])] for e in bfs_edges])\n",
    "except Exception as e:\n",
    "    print(f\"Error: {e}\")\n",
    "    print(\"Make sure GRAPH_ID is set and your AWS credentials are configured correctly.\")"
   ]
  },
  {
   "cell_type": "markdown",
   "metadata": {},
   "source": [
    "### Example 5: descendants_at_distance\n",
    "This module provides a drop-in replacement for descendants_at_distance() with full feature parity to its NetworkX counterpart, enabling computational offloading for scalable graph processing."
   ]
  },
  {
   "cell_type": "code",
   "execution_count": null,
   "metadata": {},
   "outputs": [],
   "source": [
    "result_neptune = nx.descendants_at_distance(air_route_graph, backend=BACKEND, source=\"YVR\", distance=7)\n",
    "\n",
    "# Feature parity\n",
    "result_networkx = nx.descendants_at_distance(air_route_graph, source=\"YVR\", distance=7)\n",
    "assert result_neptune == result_networkx\n",
    "\n",
    "logger.info(\"\\n\\nResult preview:\")\n",
    "logger.info(result_neptune)\n"
   ]
  },
  {
   "cell_type": "markdown",
   "metadata": {},
   "source": [
    "### Example 6: bfs_layers\n",
    "This module provides a drop-in replacement for bfs_layers() with full feature parity to its NetworkX counterpart, enabling computational offloading for scalable graph processing."
   ]
  },
  {
   "cell_type": "code",
   "execution_count": null,
   "metadata": {},
   "outputs": [],
   "source": [
    "result_neptune = list(nx.bfs_layers(air_route_graph, backend=BACKEND, sources=[\"YVR\"]))\n",
    "\n",
    "# # Feature parity\n",
    "result_networkx = list(nx.bfs_layers(air_route_graph, sources=[\"YVR\"]))\n",
    "for e, a in zip(result_neptune, result_networkx):\n",
    "    assert sorted(e) == sorted(a)\n",
    "\n",
    "logger.info(\"\\n\\nResult preview:\")\n",
    "logger.info(result_neptune[1])\n"
   ]
  },
  {
   "cell_type": "markdown",
   "metadata": {},
   "source": [
    "## Conclusion\n",
    "\n",
    "This notebook demonstrated how to use the Breadth-First Search algorithm with Neptune Analytics as a backend. We've seen that:\n",
    "\n",
    "1. BFS can be run on different types of graphs (directed and undirected)\n",
    "2. We can control the traversal with parameters like `reverse` and `depth_limit`\n",
    "3. Visualizing the BFS traversal helps understand the algorithm's behavior\n",
    "\n",
    "Using Neptune Analytics as a backend allows you to offload the computation to AWS, which can be beneficial for larger graphs where local computation would be resource-intensive."
   ]
  }
 ],
 "metadata": {
  "kernelspec": {
   "display_name": "Python 3 (ipykernel)",
   "language": "python",
   "name": "python3"
  },
  "language_info": {
   "codemirror_mode": {
    "name": "ipython",
    "version": 3
   },
   "file_extension": ".py",
   "mimetype": "text/x-python",
   "name": "python",
   "nbconvert_exporter": "python",
   "pygments_lexer": "ipython3",
   "version": "3.13.5"
  }
 },
 "nbformat": 4,
 "nbformat_minor": 4
}
